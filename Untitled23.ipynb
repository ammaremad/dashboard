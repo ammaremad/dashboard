{
 "cells": [
  {
   "cell_type": "code",
   "execution_count": 1,
   "id": "cef4e888",
   "metadata": {},
   "outputs": [],
   "source": [
    "import pandas as pd\n",
    "data=pd.read_excel(r'D:\\Ammar\\dad\\new data.xlsx')"
   ]
  },
  {
   "cell_type": "code",
   "execution_count": 2,
   "id": "811093ec",
   "metadata": {},
   "outputs": [],
   "source": [
    "data = data.rename(columns={'الإيرادات ': 'الإيرادات'})"
   ]
  },
  {
   "cell_type": "code",
   "execution_count": null,
   "id": "1cfaef51",
   "metadata": {},
   "outputs": [],
   "source": []
  },
  {
   "cell_type": "code",
   "execution_count": 4,
   "id": "c391f6e9",
   "metadata": {},
   "outputs": [
    {
     "data": {
      "text/html": [
       "\n",
       "        <iframe\n",
       "            width=\"100%\"\n",
       "            height=\"650\"\n",
       "            src=\"http://127.0.0.1:8052/\"\n",
       "            frameborder=\"0\"\n",
       "            allowfullscreen\n",
       "            \n",
       "        ></iframe>\n",
       "        "
      ],
      "text/plain": [
       "<IPython.lib.display.IFrame at 0x298ee989d90>"
      ]
     },
     "metadata": {},
     "output_type": "display_data"
    }
   ],
   "source": [
    "import dash\n",
    "from dash import dcc, html, Input, Output\n",
    "import pandas as pd\n",
    "import plotly.express as px\n",
    "\n",
    "# أعمدة المصاريف\n",
    "expenses_cols = ['مصاريف تسويقية', 'مصاريف عمومية وادارية', 'الهبوط في قيمة المدينين التجاريين']\n",
    "\n",
    "# تطبيق Dash\n",
    "app = dash.Dash(__name__)\n",
    "\n",
    "# واجهة المستخدم\n",
    "# تحديث واجهة المستخدم\n",
    "app.layout = html.Div([\n",
    "    html.H1(\"لوحة متابعة الأداء المالي\", style={'textAlign': 'center', 'color': '#4CAF50'}),\n",
    "    html.Div([\n",
    "        dcc.Dropdown(\n",
    "            id='year-dropdown',\n",
    "            options=[{'label': 'عرض الثلاث سنوات', 'value': 'all'}] +\n",
    "                     [{'label': str(year), 'value': year} for year in data['السنه']],\n",
    "            value='all',  # القيمة الافتراضية\n",
    "            placeholder=\"اختر السنة\",\n",
    "            style={'width': '50%', 'margin': 'auto', 'padding': '10px'}\n",
    "        )\n",
    "    ]),\n",
    "    html.Div([\n",
    "        html.Div([dcc.Graph(id='revenue-bar-chart')], style={'width': '48%', 'display': 'inline-block'}),\n",
    "        html.Div([dcc.Graph(id='expenses-pie-chart')], style={'width': '48%', 'display': 'inline-block'}),\n",
    "    ], style={'margin': '20px 0'}),\n",
    "    html.Div([\n",
    "        html.Div([dcc.Graph(id='net-income-line-chart')], style={'width': '48%', 'display': 'inline-block'}),\n",
    "        html.Div([dcc.Graph(id='revenue-cost-bar-chart')], style={'width': '48%', 'display': 'inline-block'}),\n",
    "    ], style={'margin': '20px 0'}),\n",
    "    html.Footer(\"تحليل_ايرادات_ومصروفات_2022_2023_2024\", \n",
    "                style={'textAlign': 'center', 'padding': '10px', 'backgroundColor': '#f1f1f1', 'marginTop': '20px'})\n",
    "])\n",
    "\n",
    "# تحديث الكول باك\n",
    "@app.callback(\n",
    "    [Output('revenue-bar-chart', 'figure'),\n",
    "     Output('expenses-pie-chart', 'figure'),\n",
    "     Output('net-income-line-chart', 'figure'),\n",
    "     Output('revenue-cost-bar-chart', 'figure')],\n",
    "    [Input('year-dropdown', 'value')]\n",
    ")\n",
    "def update_charts(selected_year):\n",
    "    if selected_year == 'all':\n",
    "        filtered_data = data\n",
    "        title_suffix = 'للثلاث سنوات'\n",
    "    else:\n",
    "        filtered_data = data[data['السنه'] == selected_year]\n",
    "        title_suffix = f'للسنة {selected_year}'\n",
    "\n",
    "    # رسم الإيرادات\n",
    "    bar_chart = px.bar(\n",
    "        filtered_data, x='السنه', y='الإيرادات', text='الإيرادات',\n",
    "        title=f'الإيرادات {title_suffix}',\n",
    "        labels={'السنه': 'السنة', 'الإيرادات': 'الإيرادات'},\n",
    "        color_discrete_sequence=['#1f77b4']\n",
    "    )\n",
    "    bar_chart.update_traces(textposition='outside')\n",
    "    bar_chart.update_layout(title={'x': 0.5}, xaxis=dict(title='السنة'), yaxis=dict(title='الإيرادات (بالريال)'))\n",
    "\n",
    "    # توزيع المصاريف\n",
    "    expenses = filtered_data[expenses_cols].sum()\n",
    "    pie_chart = px.pie(\n",
    "        values=expenses.values, names=expenses.index,\n",
    "        title=f'توزيع المصاريف {title_suffix}',\n",
    "        color_discrete_sequence=px.colors.sequential.RdBu\n",
    "    )\n",
    "    pie_chart.update_traces(\n",
    "        textinfo='percent+label',\n",
    "        pull=[0.1 if i == expenses.idxmax() else 0 for i in expenses.index]\n",
    "    )\n",
    "\n",
    "    # رسم خطي لصافي الدخل\n",
    "    line_chart = px.line(\n",
    "        filtered_data, x='السنه', y='صافي الدخل قبل الزكاة',\n",
    "        title=f'تطور صافي الدخل قبل الزكاة {title_suffix}',\n",
    "        markers=True,\n",
    "        labels={'السنه': 'السنة', 'صافي الدخل قبل الزكاة': 'صافي الدخل'}\n",
    "    )\n",
    "    line_chart.update_layout(title={'x': 0.5}, xaxis=dict(title='السنة'), yaxis=dict(title='صافي الدخل'))\n",
    "\n",
    "    # مقارنة الإيرادات مع التكلفة\n",
    "    bar_chart_revenue_cost = px.bar(\n",
    "        filtered_data, x='السنه', y=['الإيرادات', 'تكلفة الإيرادات'],\n",
    "        title=f'مقارنة الإيرادات وتكلفة الإيرادات {title_suffix}',\n",
    "        labels={'variable': 'النوع', 'value': 'القيمة', 'السنه': 'السنة'},\n",
    "        barmode='group',\n",
    "        color_discrete_sequence=px.colors.qualitative.Set2\n",
    "    )\n",
    "    bar_chart_revenue_cost.update_layout(title={'x': 0.5})\n",
    "\n",
    "    return bar_chart, pie_chart, line_chart, bar_chart_revenue_cost\n",
    "\n",
    "# تشغيل التطبيق\n",
    "if __name__ == '__main__':\n",
    "    app.run_server(debug=True, port=8052)\n",
    "\n",
    "    \n"
   ]
  },
  {
   "cell_type": "code",
   "execution_count": null,
   "id": "67d4e54f",
   "metadata": {},
   "outputs": [],
   "source": []
  }
 ],
 "metadata": {
  "kernelspec": {
   "display_name": "Python 3 (ipykernel)",
   "language": "python",
   "name": "python3"
  },
  "language_info": {
   "codemirror_mode": {
    "name": "ipython",
    "version": 3
   },
   "file_extension": ".py",
   "mimetype": "text/x-python",
   "name": "python",
   "nbconvert_exporter": "python",
   "pygments_lexer": "ipython3",
   "version": "3.11.7"
  }
 },
 "nbformat": 4,
 "nbformat_minor": 5
}
